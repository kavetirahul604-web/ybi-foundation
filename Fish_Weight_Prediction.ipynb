{
  "cells": [
    {
      "cell_type": "markdown",
      "metadata": {},
      "source": [
        "# \ud83d\udc1f Fish Weight Prediction Project (Google Colab)\n",
        "This notebook demonstrates data preprocessing, exploratory data analysis (EDA), and linear regression model training for predicting fish weights."
      ]
    },
    {
      "cell_type": "code",
      "execution_count": null,
      "metadata": {},
      "outputs": [],
      "source": [
        "# \u2705 Step 1: Install required libraries\n",
        "!pip install matplotlib seaborn scikit-learn pandas"
      ]
    },
    {
      "cell_type": "code",
      "execution_count": null,
      "metadata": {},
      "outputs": [],
      "source": [
        "# \u2705 Step 2: Import libraries\n",
        "import pandas as pd\n",
        "import matplotlib.pyplot as plt\n",
        "import seaborn as sns\n",
        "from sklearn.model_selection import train_test_split\n",
        "from sklearn.linear_model import LinearRegression\n",
        "from sklearn.metrics import mean_absolute_error, r2_score\n",
        "import numpy as np"
      ]
    },
    {
      "cell_type": "code",
      "execution_count": null,
      "metadata": {},
      "outputs": [],
      "source": [
        "# \u2705 Step 3: Load and preprocess dataset\n",
        "def load_and_preprocess_data():\n",
        "    try:\n",
        "        df = pd.read_csv('Fish.csv')\n",
        "        print(\"Data loaded successfully from 'Fish.csv'\")\n",
        "    except FileNotFoundError:\n",
        "        print(\"\u26a0\ufe0f 'Fish.csv' not found. Creating a sample dataset...\")\n",
        "        data = {\n",
        "            'Species': ['Bream', 'Perch', 'Roach', 'Pike', 'Smelt', 'Whitefish'],\n",
        "            'Weight': [242.0, 150.0, 115.0, 500.0, 6.7, 240.0],\n",
        "            'Length1': [23.2, 23.0, 21.0, 40.0, 10.3, 23.6],\n",
        "            'Length2': [25.4, 24.5, 22.5, 43.0, 10.9, 26.0],\n",
        "            'Length3': [30.0, 26.5, 24.5, 45.5, 11.6, 28.0],\n",
        "            'Height': [11.52, 7.82, 6.47, 10.15, 2.09, 9.68],\n",
        "            'Width': [4.02, 3.54, 3.72, 6.05, 1.39, 4.47]\n",
        "        }\n",
        "        df = pd.DataFrame(data)\n",
        "\n",
        "    print(\"\\nInitial Data:\")\n",
        "    print(df.head())\n",
        "\n",
        "    print(\"\\nMissing values per column:\")\n",
        "    print(df.isnull().sum())\n",
        "\n",
        "    df = pd.get_dummies(df, columns=['Species'], drop_first=True)\n",
        "\n",
        "    print(\"\\nProcessed Data with One-Hot Encoding:\")\n",
        "    print(df.head())\n",
        "\n",
        "    return df"
      ]
    },
    {
      "cell_type": "code",
      "execution_count": null,
      "metadata": {},
      "outputs": [],
      "source": [
        "# \u2705 Step 4: EDA\n",
        "def perform_eda(df):\n",
        "    print(\"\\nPerforming Exploratory Data Analysis...\")\n",
        "\n",
        "    plt.figure(figsize=(10, 8))\n",
        "    sns.heatmap(df.corr(), annot=True, cmap='viridis', fmt=\".2f\")\n",
        "    plt.title('Correlation Matrix of Fish Features')\n",
        "    plt.show()\n",
        "\n",
        "    fig, axes = plt.subplots(1, 3, figsize=(18, 6))\n",
        "    fig.suptitle('Weight vs. Length for Different Measurements')\n",
        "\n",
        "    sns.scatterplot(x='Length1', y='Weight', data=df, ax=axes[0])\n",
        "    axes[0].set_title('Weight vs. Length1')\n",
        "\n",
        "    sns.scatterplot(x='Length2', y='Weight', data=df, ax=axes[1])\n",
        "    axes[1].set_title('Weight vs. Length2')\n",
        "\n",
        "    sns.scatterplot(x='Length3', y='Weight', data=df, ax=axes[2])\n",
        "    axes[2].set_title('Weight vs. Length3')\n",
        "\n",
        "    plt.tight_layout()\n",
        "    plt.show()"
      ]
    },
    {
      "cell_type": "code",
      "execution_count": null,
      "metadata": {},
      "outputs": [],
      "source": [
        "# \u2705 Step 5: Train & evaluate model\n",
        "def train_and_evaluate_model(df):\n",
        "    print(\"\\nTraining and evaluating the model...\")\n",
        "\n",
        "    X = df.drop('Weight', axis=1)\n",
        "    y = df['Weight']\n",
        "\n",
        "    X_train, X_test, y_train, y_test = train_test_split(\n",
        "        X, y, test_size=0.2, random_state=42\n",
        "    )\n",
        "\n",
        "    print(f\"Training data shape: {X_train.shape}\")\n",
        "    print(f\"Testing data shape: {X_test.shape}\")\n",
        "\n",
        "    model = LinearRegression()\n",
        "    model.fit(X_train, y_train)\n",
        "\n",
        "    print(\"\\nModel training complete.\")\n",
        "\n",
        "    y_pred = model.predict(X_test)\n",
        "\n",
        "    mae = mean_absolute_error(y_test, y_pred)\n",
        "    r2 = r2_score(y_test, y_pred)\n",
        "\n",
        "    print(\"\\nModel Evaluation Metrics:\")\n",
        "    print(f\"Mean Absolute Error (MAE): {mae:.2f}\")\n",
        "    print(f\"R-squared (R2) Score: {r2:.2f}\")\n",
        "\n",
        "    plt.figure(figsize=(10, 6))\n",
        "    sns.regplot(x=y_test, y=y_pred, scatter_kws={'alpha': 0.5})\n",
        "    plt.title('Actual vs. Predicted Fish Weights')\n",
        "    plt.xlabel('Actual Weight')\n",
        "    plt.ylabel('Predicted Weight')\n",
        "    plt.show()"
      ]
    },
    {
      "cell_type": "code",
      "execution_count": null,
      "metadata": {},
      "outputs": [],
      "source": [
        "# \u2705 Step 6: Run full workflow\n",
        "fish_data = load_and_preprocess_data()\n",
        "perform_eda(fish_data)\n",
        "train_and_evaluate_model(fish_data)"
      ]
    }
  ],
  "metadata": {
    "colab": {
      "name": "Fish_Weight_Prediction.ipynb"
    },
    "kernelspec": {
      "display_name": "Python 3",
      "language": "python",
      "name": "python3"
    },
    "language_info": {
      "name": "python",
      "version": "3.11"
    }
  },
  "nbformat": 4,
  "nbformat_minor": 5
}